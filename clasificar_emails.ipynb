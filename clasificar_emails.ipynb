{
  "nbformat": 4,
  "nbformat_minor": 0,
  "metadata": {
    "colab": {
      "provenance": [],
      "mount_file_id": "1irL7ZA9lbaG4J5Mfx3sHWEunjsbgWKnt",
      "authorship_tag": "ABX9TyMkkDTzNwiyjbw8ASbkKSS8",
      "include_colab_link": true
    },
    "kernelspec": {
      "name": "python3",
      "display_name": "Python 3"
    },
    "language_info": {
      "name": "python"
    }
  },
  "cells": [
    {
      "cell_type": "markdown",
      "metadata": {
        "id": "view-in-github",
        "colab_type": "text"
      },
      "source": [
        "<a href=\"https://colab.research.google.com/github/SorayaFrancoLopez/RN/blob/main/clasificar_emails.ipynb\" target=\"_parent\"><img src=\"https://colab.research.google.com/assets/colab-badge.svg\" alt=\"Open In Colab\"/></a>"
      ]
    },
    {
      "cell_type": "code",
      "execution_count": 8,
      "metadata": {
        "id": "rxE8mOK5G9E1"
      },
      "outputs": [],
      "source": [
        "#Descargas de bibliotecas.\n",
        "import pandas as pd\n",
        "import numpy as np\n",
        "from sklearn.feature_extraction.text import TfidfVectorizer\n",
        "from sklearn.preprocessing import OneHotEncoder\n",
        "from sklearn.preprocessing import LabelEncoder\n",
        "from sklearn.model_selection import train_test_split\n",
        "import tensorflow as tf\n",
        "from tensorflow import keras\n",
        "from scipy.sparse import hstack\n",
        "from google.colab import drive\n",
        "from sklearn.metrics import accuracy_score"
      ]
    },
    {
      "cell_type": "code",
      "source": [
        "from google.colab import drive\n",
        "drive.mount('/content/drive')"
      ],
      "metadata": {
        "colab": {
          "base_uri": "https://localhost:8080/"
        },
        "id": "-BwYQJR-HoBo",
        "outputId": "4211c5e2-a856-42e7-828c-245670f5abbb"
      },
      "execution_count": 2,
      "outputs": [
        {
          "output_type": "stream",
          "name": "stdout",
          "text": [
            "Mounted at /content/drive\n"
          ]
        }
      ]
    },
    {
      "cell_type": "code",
      "source": [
        "df = pd.read_csv(\"/content/drive/MyDrive/e-mails.csv\", delimiter=';', encoding='latin1')"
      ],
      "metadata": {
        "id": "it0H6qrrHCkm"
      },
      "execution_count": 3,
      "outputs": []
    },
    {
      "cell_type": "code",
      "source": [
        "df"
      ],
      "metadata": {
        "colab": {
          "base_uri": "https://localhost:8080/",
          "height": 597
        },
        "id": "3jEe93jXPjIB",
        "outputId": "11d981e9-a708-49b3-bb0e-bc9d11063ba0"
      },
      "execution_count": 4,
      "outputs": [
        {
          "output_type": "execute_result",
          "data": {
            "text/plain": [
              "                  emails                                       asunto  \\\n",
              "0     cliente1@email.com                        Solicitud de Préstamo   \n",
              "1     cliente2@email.com                      Consulta de Inversiones   \n",
              "2     cliente3@email.com                          Reclamo sobre Cargo   \n",
              "3     cliente4@email.com              Pregunta sobre Cuenta de Ahorro   \n",
              "4     cliente5@email.com                    Actualización de Contacto   \n",
              "..                   ...                                          ...   \n",
              "95   cliente96@email.com  Solicitud de Tarjeta de Crédito Empresarial   \n",
              "96   cliente97@email.com          Problema con Transferencia Bancaria   \n",
              "97   cliente98@email.com                  Informe de Estado de Cuenta   \n",
              "98   cliente99@email.com                      Pregunta sobre Hipoteca   \n",
              "99  cliente100@email.com          Solicitud de Préstamo para Estudios   \n",
              "\n",
              "                                                texto prioridad  \n",
              "0   Hola, necesito solicitar un préstamo para una ...      Alta  \n",
              "1   Estimado Gestor, ¿cuáles son las opciones de i...     Media  \n",
              "2   He notado un cargo incorrecto en mi cuenta, ¿p...      Alta  \n",
              "3   Quiero saber cuál es la tasa de interés actual...      Baja  \n",
              "4   Estimado Gestor, he cambiado mi dirección y nú...     Media  \n",
              "..                                                ...       ...  \n",
              "95  Quiero solicitar una tarjeta de crédito empres...      Alta  \n",
              "96  He tenido un problema con una transferencia ba...      Alta  \n",
              "97  ¿Puedes proporcionarme una copia de mi estado ...     Media  \n",
              "98  Estimado Gestor, necesito información sobre la...      Baja  \n",
              "99  Quiero solicitar un préstamo para financiar mi...      Alta  \n",
              "\n",
              "[100 rows x 4 columns]"
            ],
            "text/html": [
              "\n",
              "  <div id=\"df-3ee34d48-fd25-4000-a1f6-c0250095b3fb\" class=\"colab-df-container\">\n",
              "    <div>\n",
              "<style scoped>\n",
              "    .dataframe tbody tr th:only-of-type {\n",
              "        vertical-align: middle;\n",
              "    }\n",
              "\n",
              "    .dataframe tbody tr th {\n",
              "        vertical-align: top;\n",
              "    }\n",
              "\n",
              "    .dataframe thead th {\n",
              "        text-align: right;\n",
              "    }\n",
              "</style>\n",
              "<table border=\"1\" class=\"dataframe\">\n",
              "  <thead>\n",
              "    <tr style=\"text-align: right;\">\n",
              "      <th></th>\n",
              "      <th>emails</th>\n",
              "      <th>asunto</th>\n",
              "      <th>texto</th>\n",
              "      <th>prioridad</th>\n",
              "    </tr>\n",
              "  </thead>\n",
              "  <tbody>\n",
              "    <tr>\n",
              "      <th>0</th>\n",
              "      <td>cliente1@email.com</td>\n",
              "      <td>Solicitud de Préstamo</td>\n",
              "      <td>Hola, necesito solicitar un préstamo para una ...</td>\n",
              "      <td>Alta</td>\n",
              "    </tr>\n",
              "    <tr>\n",
              "      <th>1</th>\n",
              "      <td>cliente2@email.com</td>\n",
              "      <td>Consulta de Inversiones</td>\n",
              "      <td>Estimado Gestor, ¿cuáles son las opciones de i...</td>\n",
              "      <td>Media</td>\n",
              "    </tr>\n",
              "    <tr>\n",
              "      <th>2</th>\n",
              "      <td>cliente3@email.com</td>\n",
              "      <td>Reclamo sobre Cargo</td>\n",
              "      <td>He notado un cargo incorrecto en mi cuenta, ¿p...</td>\n",
              "      <td>Alta</td>\n",
              "    </tr>\n",
              "    <tr>\n",
              "      <th>3</th>\n",
              "      <td>cliente4@email.com</td>\n",
              "      <td>Pregunta sobre Cuenta de Ahorro</td>\n",
              "      <td>Quiero saber cuál es la tasa de interés actual...</td>\n",
              "      <td>Baja</td>\n",
              "    </tr>\n",
              "    <tr>\n",
              "      <th>4</th>\n",
              "      <td>cliente5@email.com</td>\n",
              "      <td>Actualización de Contacto</td>\n",
              "      <td>Estimado Gestor, he cambiado mi dirección y nú...</td>\n",
              "      <td>Media</td>\n",
              "    </tr>\n",
              "    <tr>\n",
              "      <th>...</th>\n",
              "      <td>...</td>\n",
              "      <td>...</td>\n",
              "      <td>...</td>\n",
              "      <td>...</td>\n",
              "    </tr>\n",
              "    <tr>\n",
              "      <th>95</th>\n",
              "      <td>cliente96@email.com</td>\n",
              "      <td>Solicitud de Tarjeta de Crédito Empresarial</td>\n",
              "      <td>Quiero solicitar una tarjeta de crédito empres...</td>\n",
              "      <td>Alta</td>\n",
              "    </tr>\n",
              "    <tr>\n",
              "      <th>96</th>\n",
              "      <td>cliente97@email.com</td>\n",
              "      <td>Problema con Transferencia Bancaria</td>\n",
              "      <td>He tenido un problema con una transferencia ba...</td>\n",
              "      <td>Alta</td>\n",
              "    </tr>\n",
              "    <tr>\n",
              "      <th>97</th>\n",
              "      <td>cliente98@email.com</td>\n",
              "      <td>Informe de Estado de Cuenta</td>\n",
              "      <td>¿Puedes proporcionarme una copia de mi estado ...</td>\n",
              "      <td>Media</td>\n",
              "    </tr>\n",
              "    <tr>\n",
              "      <th>98</th>\n",
              "      <td>cliente99@email.com</td>\n",
              "      <td>Pregunta sobre Hipoteca</td>\n",
              "      <td>Estimado Gestor, necesito información sobre la...</td>\n",
              "      <td>Baja</td>\n",
              "    </tr>\n",
              "    <tr>\n",
              "      <th>99</th>\n",
              "      <td>cliente100@email.com</td>\n",
              "      <td>Solicitud de Préstamo para Estudios</td>\n",
              "      <td>Quiero solicitar un préstamo para financiar mi...</td>\n",
              "      <td>Alta</td>\n",
              "    </tr>\n",
              "  </tbody>\n",
              "</table>\n",
              "<p>100 rows × 4 columns</p>\n",
              "</div>\n",
              "    <div class=\"colab-df-buttons\">\n",
              "\n",
              "  <div class=\"colab-df-container\">\n",
              "    <button class=\"colab-df-convert\" onclick=\"convertToInteractive('df-3ee34d48-fd25-4000-a1f6-c0250095b3fb')\"\n",
              "            title=\"Convert this dataframe to an interactive table.\"\n",
              "            style=\"display:none;\">\n",
              "\n",
              "  <svg xmlns=\"http://www.w3.org/2000/svg\" height=\"24px\" viewBox=\"0 -960 960 960\">\n",
              "    <path d=\"M120-120v-720h720v720H120Zm60-500h600v-160H180v160Zm220 220h160v-160H400v160Zm0 220h160v-160H400v160ZM180-400h160v-160H180v160Zm440 0h160v-160H620v160ZM180-180h160v-160H180v160Zm440 0h160v-160H620v160Z\"/>\n",
              "  </svg>\n",
              "    </button>\n",
              "\n",
              "  <style>\n",
              "    .colab-df-container {\n",
              "      display:flex;\n",
              "      gap: 12px;\n",
              "    }\n",
              "\n",
              "    .colab-df-convert {\n",
              "      background-color: #E8F0FE;\n",
              "      border: none;\n",
              "      border-radius: 50%;\n",
              "      cursor: pointer;\n",
              "      display: none;\n",
              "      fill: #1967D2;\n",
              "      height: 32px;\n",
              "      padding: 0 0 0 0;\n",
              "      width: 32px;\n",
              "    }\n",
              "\n",
              "    .colab-df-convert:hover {\n",
              "      background-color: #E2EBFA;\n",
              "      box-shadow: 0px 1px 2px rgba(60, 64, 67, 0.3), 0px 1px 3px 1px rgba(60, 64, 67, 0.15);\n",
              "      fill: #174EA6;\n",
              "    }\n",
              "\n",
              "    .colab-df-buttons div {\n",
              "      margin-bottom: 4px;\n",
              "    }\n",
              "\n",
              "    [theme=dark] .colab-df-convert {\n",
              "      background-color: #3B4455;\n",
              "      fill: #D2E3FC;\n",
              "    }\n",
              "\n",
              "    [theme=dark] .colab-df-convert:hover {\n",
              "      background-color: #434B5C;\n",
              "      box-shadow: 0px 1px 3px 1px rgba(0, 0, 0, 0.15);\n",
              "      filter: drop-shadow(0px 1px 2px rgba(0, 0, 0, 0.3));\n",
              "      fill: #FFFFFF;\n",
              "    }\n",
              "  </style>\n",
              "\n",
              "    <script>\n",
              "      const buttonEl =\n",
              "        document.querySelector('#df-3ee34d48-fd25-4000-a1f6-c0250095b3fb button.colab-df-convert');\n",
              "      buttonEl.style.display =\n",
              "        google.colab.kernel.accessAllowed ? 'block' : 'none';\n",
              "\n",
              "      async function convertToInteractive(key) {\n",
              "        const element = document.querySelector('#df-3ee34d48-fd25-4000-a1f6-c0250095b3fb');\n",
              "        const dataTable =\n",
              "          await google.colab.kernel.invokeFunction('convertToInteractive',\n",
              "                                                    [key], {});\n",
              "        if (!dataTable) return;\n",
              "\n",
              "        const docLinkHtml = 'Like what you see? Visit the ' +\n",
              "          '<a target=\"_blank\" href=https://colab.research.google.com/notebooks/data_table.ipynb>data table notebook</a>'\n",
              "          + ' to learn more about interactive tables.';\n",
              "        element.innerHTML = '';\n",
              "        dataTable['output_type'] = 'display_data';\n",
              "        await google.colab.output.renderOutput(dataTable, element);\n",
              "        const docLink = document.createElement('div');\n",
              "        docLink.innerHTML = docLinkHtml;\n",
              "        element.appendChild(docLink);\n",
              "      }\n",
              "    </script>\n",
              "  </div>\n",
              "\n",
              "\n",
              "<div id=\"df-f7c898dc-09dc-4a1f-a0ef-e4c5d8dc5bf8\">\n",
              "  <button class=\"colab-df-quickchart\" onclick=\"quickchart('df-f7c898dc-09dc-4a1f-a0ef-e4c5d8dc5bf8')\"\n",
              "            title=\"Suggest charts.\"\n",
              "            style=\"display:none;\">\n",
              "\n",
              "<svg xmlns=\"http://www.w3.org/2000/svg\" height=\"24px\"viewBox=\"0 0 24 24\"\n",
              "     width=\"24px\">\n",
              "    <g>\n",
              "        <path d=\"M19 3H5c-1.1 0-2 .9-2 2v14c0 1.1.9 2 2 2h14c1.1 0 2-.9 2-2V5c0-1.1-.9-2-2-2zM9 17H7v-7h2v7zm4 0h-2V7h2v10zm4 0h-2v-4h2v4z\"/>\n",
              "    </g>\n",
              "</svg>\n",
              "  </button>\n",
              "\n",
              "<style>\n",
              "  .colab-df-quickchart {\n",
              "      --bg-color: #E8F0FE;\n",
              "      --fill-color: #1967D2;\n",
              "      --hover-bg-color: #E2EBFA;\n",
              "      --hover-fill-color: #174EA6;\n",
              "      --disabled-fill-color: #AAA;\n",
              "      --disabled-bg-color: #DDD;\n",
              "  }\n",
              "\n",
              "  [theme=dark] .colab-df-quickchart {\n",
              "      --bg-color: #3B4455;\n",
              "      --fill-color: #D2E3FC;\n",
              "      --hover-bg-color: #434B5C;\n",
              "      --hover-fill-color: #FFFFFF;\n",
              "      --disabled-bg-color: #3B4455;\n",
              "      --disabled-fill-color: #666;\n",
              "  }\n",
              "\n",
              "  .colab-df-quickchart {\n",
              "    background-color: var(--bg-color);\n",
              "    border: none;\n",
              "    border-radius: 50%;\n",
              "    cursor: pointer;\n",
              "    display: none;\n",
              "    fill: var(--fill-color);\n",
              "    height: 32px;\n",
              "    padding: 0;\n",
              "    width: 32px;\n",
              "  }\n",
              "\n",
              "  .colab-df-quickchart:hover {\n",
              "    background-color: var(--hover-bg-color);\n",
              "    box-shadow: 0 1px 2px rgba(60, 64, 67, 0.3), 0 1px 3px 1px rgba(60, 64, 67, 0.15);\n",
              "    fill: var(--button-hover-fill-color);\n",
              "  }\n",
              "\n",
              "  .colab-df-quickchart-complete:disabled,\n",
              "  .colab-df-quickchart-complete:disabled:hover {\n",
              "    background-color: var(--disabled-bg-color);\n",
              "    fill: var(--disabled-fill-color);\n",
              "    box-shadow: none;\n",
              "  }\n",
              "\n",
              "  .colab-df-spinner {\n",
              "    border: 2px solid var(--fill-color);\n",
              "    border-color: transparent;\n",
              "    border-bottom-color: var(--fill-color);\n",
              "    animation:\n",
              "      spin 1s steps(1) infinite;\n",
              "  }\n",
              "\n",
              "  @keyframes spin {\n",
              "    0% {\n",
              "      border-color: transparent;\n",
              "      border-bottom-color: var(--fill-color);\n",
              "      border-left-color: var(--fill-color);\n",
              "    }\n",
              "    20% {\n",
              "      border-color: transparent;\n",
              "      border-left-color: var(--fill-color);\n",
              "      border-top-color: var(--fill-color);\n",
              "    }\n",
              "    30% {\n",
              "      border-color: transparent;\n",
              "      border-left-color: var(--fill-color);\n",
              "      border-top-color: var(--fill-color);\n",
              "      border-right-color: var(--fill-color);\n",
              "    }\n",
              "    40% {\n",
              "      border-color: transparent;\n",
              "      border-right-color: var(--fill-color);\n",
              "      border-top-color: var(--fill-color);\n",
              "    }\n",
              "    60% {\n",
              "      border-color: transparent;\n",
              "      border-right-color: var(--fill-color);\n",
              "    }\n",
              "    80% {\n",
              "      border-color: transparent;\n",
              "      border-right-color: var(--fill-color);\n",
              "      border-bottom-color: var(--fill-color);\n",
              "    }\n",
              "    90% {\n",
              "      border-color: transparent;\n",
              "      border-bottom-color: var(--fill-color);\n",
              "    }\n",
              "  }\n",
              "</style>\n",
              "\n",
              "  <script>\n",
              "    async function quickchart(key) {\n",
              "      const quickchartButtonEl =\n",
              "        document.querySelector('#' + key + ' button');\n",
              "      quickchartButtonEl.disabled = true;  // To prevent multiple clicks.\n",
              "      quickchartButtonEl.classList.add('colab-df-spinner');\n",
              "      try {\n",
              "        const charts = await google.colab.kernel.invokeFunction(\n",
              "            'suggestCharts', [key], {});\n",
              "      } catch (error) {\n",
              "        console.error('Error during call to suggestCharts:', error);\n",
              "      }\n",
              "      quickchartButtonEl.classList.remove('colab-df-spinner');\n",
              "      quickchartButtonEl.classList.add('colab-df-quickchart-complete');\n",
              "    }\n",
              "    (() => {\n",
              "      let quickchartButtonEl =\n",
              "        document.querySelector('#df-f7c898dc-09dc-4a1f-a0ef-e4c5d8dc5bf8 button');\n",
              "      quickchartButtonEl.style.display =\n",
              "        google.colab.kernel.accessAllowed ? 'block' : 'none';\n",
              "    })();\n",
              "  </script>\n",
              "</div>\n",
              "    </div>\n",
              "  </div>\n"
            ]
          },
          "metadata": {},
          "execution_count": 4
        }
      ]
    },
    {
      "cell_type": "code",
      "source": [
        "# Vectorización del campo 'texto'\n",
        "text_vectorizer = TfidfVectorizer(max_features=50)\n",
        "X_text = text_vectorizer.fit_transform(df['texto'])\n",
        "\n",
        "# Vectorización del campo 'asunto'\n",
        "subject_vectorizer = TfidfVectorizer(max_features=50)\n",
        "X_subject = subject_vectorizer.fit_transform(df['asunto'])\n",
        "\n",
        "# Combinar las dos representaciones TF-IDF\n",
        "X_combined = hstack([X_text, X_subject])"
      ],
      "metadata": {
        "id": "wkoSw4jYPjQD"
      },
      "execution_count": 5,
      "outputs": []
    },
    {
      "cell_type": "code",
      "source": [
        "dense_X_combined = X_combined.toarray()"
      ],
      "metadata": {
        "id": "2zjL8zE3AT6x"
      },
      "execution_count": 9,
      "outputs": []
    },
    {
      "cell_type": "code",
      "source": [
        "label_encoder = LabelEncoder()\n",
        "y = label_encoder.fit_transform(df['prioridad'])"
      ],
      "metadata": {
        "id": "-M62m8sCCA61"
      },
      "execution_count": 10,
      "outputs": []
    },
    {
      "cell_type": "code",
      "source": [
        "encoder = OneHotEncoder(sparse=False)\n",
        "dense_X_combined_onehot = encoder.fit_transform(dense_X_combined)"
      ],
      "metadata": {
        "colab": {
          "base_uri": "https://localhost:8080/"
        },
        "id": "bStx2fT2_23U",
        "outputId": "3514d2fa-3937-46ce-9c8a-1e619f5976dd"
      },
      "execution_count": 11,
      "outputs": [
        {
          "output_type": "stream",
          "name": "stderr",
          "text": [
            "/usr/local/lib/python3.10/dist-packages/sklearn/preprocessing/_encoders.py:868: FutureWarning: `sparse` was renamed to `sparse_output` in version 1.2 and will be removed in 1.4. `sparse_output` is ignored unless you leave `sparse` to its default value.\n",
            "  warnings.warn(\n"
          ]
        }
      ]
    },
    {
      "cell_type": "code",
      "source": [
        "#division en train y test\n",
        "X_train, X_test, y_train, y_test = train_test_split(dense_X_combined_onehot, y, test_size=0.2, random_state=42)"
      ],
      "metadata": {
        "id": "GTWmixMHQ3uu"
      },
      "execution_count": 12,
      "outputs": []
    },
    {
      "cell_type": "code",
      "source": [
        "X_train"
      ],
      "metadata": {
        "colab": {
          "base_uri": "https://localhost:8080/"
        },
        "id": "9HnAvixW6DHx",
        "outputId": "3bc44609-3b0b-44e7-a07c-64c668785c14"
      },
      "execution_count": 13,
      "outputs": [
        {
          "output_type": "execute_result",
          "data": {
            "text/plain": [
              "array([[1., 0., 0., ..., 0., 1., 0.],\n",
              "       [1., 0., 0., ..., 0., 1., 0.],\n",
              "       [1., 0., 0., ..., 0., 1., 0.],\n",
              "       ...,\n",
              "       [0., 0., 0., ..., 0., 1., 0.],\n",
              "       [1., 0., 0., ..., 0., 1., 0.],\n",
              "       [1., 0., 0., ..., 0., 1., 0.]])"
            ]
          },
          "metadata": {},
          "execution_count": 13
        }
      ]
    },
    {
      "cell_type": "code",
      "source": [
        "X_test"
      ],
      "metadata": {
        "colab": {
          "base_uri": "https://localhost:8080/"
        },
        "id": "FlUuaWzq6MkC",
        "outputId": "09f06209-521f-4443-b3ea-b8c990db2eed"
      },
      "execution_count": 14,
      "outputs": [
        {
          "output_type": "execute_result",
          "data": {
            "text/plain": [
              "array([[1., 0., 0., ..., 0., 1., 0.],\n",
              "       [1., 0., 0., ..., 0., 1., 0.],\n",
              "       [1., 0., 0., ..., 0., 1., 0.],\n",
              "       ...,\n",
              "       [1., 0., 0., ..., 0., 1., 0.],\n",
              "       [1., 0., 0., ..., 0., 0., 1.],\n",
              "       [1., 0., 0., ..., 0., 1., 0.]])"
            ]
          },
          "metadata": {},
          "execution_count": 14
        }
      ]
    },
    {
      "cell_type": "code",
      "source": [
        "y_train"
      ],
      "metadata": {
        "colab": {
          "base_uri": "https://localhost:8080/"
        },
        "id": "tE56Knn96S5x",
        "outputId": "8734a3f2-c733-4276-99ff-2949a594e6b3"
      },
      "execution_count": 15,
      "outputs": [
        {
          "output_type": "execute_result",
          "data": {
            "text/plain": [
              "array([0, 2, 0, 0, 0, 1, 2, 0, 0, 0, 1, 1, 0, 2, 2, 1, 0, 1, 1, 2, 1, 2,\n",
              "       1, 0, 1, 1, 2, 0, 0, 1, 2, 1, 1, 2, 2, 0, 0, 2, 0, 1, 0, 0, 2, 1,\n",
              "       0, 1, 2, 2, 2, 2, 1, 1, 2, 0, 1, 1, 0, 0, 1, 1, 1, 2, 1, 1, 2, 0,\n",
              "       2, 0, 1, 1, 1, 1, 0, 0, 0, 0, 1, 0, 0, 2])"
            ]
          },
          "metadata": {},
          "execution_count": 15
        }
      ]
    },
    {
      "cell_type": "code",
      "source": [
        "y_test"
      ],
      "metadata": {
        "colab": {
          "base_uri": "https://localhost:8080/"
        },
        "id": "00iGcWRz6bfr",
        "outputId": "79165f51-98c1-4255-e123-bc04e3f02282"
      },
      "execution_count": 16,
      "outputs": [
        {
          "output_type": "execute_result",
          "data": {
            "text/plain": [
              "array([1, 1, 2, 1, 0, 0, 0, 0, 2, 0, 0, 0, 0, 1, 2, 2, 2, 1, 0, 2])"
            ]
          },
          "metadata": {},
          "execution_count": 16
        }
      ]
    },
    {
      "cell_type": "code",
      "source": [
        "y_train_onehot = tf.one_hot(y_train, depth=3)"
      ],
      "metadata": {
        "id": "VsmTsy6ACrbb"
      },
      "execution_count": 17,
      "outputs": []
    },
    {
      "cell_type": "code",
      "source": [
        "model = keras.Sequential([\n",
        "    keras.layers.Dense(64, input_shape=(676,), activation='relu'),  # Ajusta 100 al número de características en X_combined\n",
        "    keras.layers.Dense(32, activation='relu'),\n",
        "    keras.layers.Dense(3, activation='softmax')  # 3 clases de prioridad\n",
        "])\n",
        "model.compile(loss='categorical_crossentropy', optimizer='adam', metrics=['accuracy'])\n",
        "model.fit(X_train, y_train_onehot, epochs=10, batch_size=32)"
      ],
      "metadata": {
        "colab": {
          "base_uri": "https://localhost:8080/"
        },
        "id": "XcRQhsOjSJbe",
        "outputId": "4c9a9155-6f02-42f9-f3d5-1e44d0cbfcac"
      },
      "execution_count": 18,
      "outputs": [
        {
          "output_type": "stream",
          "name": "stdout",
          "text": [
            "Epoch 1/10\n",
            "3/3 [==============================] - 1s 10ms/step - loss: 1.1178 - accuracy: 0.3250\n",
            "Epoch 2/10\n",
            "3/3 [==============================] - 0s 8ms/step - loss: 0.9662 - accuracy: 0.5625\n",
            "Epoch 3/10\n",
            "3/3 [==============================] - 0s 6ms/step - loss: 0.8749 - accuracy: 0.7000\n",
            "Epoch 4/10\n",
            "3/3 [==============================] - 0s 6ms/step - loss: 0.7873 - accuracy: 0.8125\n",
            "Epoch 5/10\n",
            "3/3 [==============================] - 0s 9ms/step - loss: 0.7028 - accuracy: 0.8625\n",
            "Epoch 6/10\n",
            "3/3 [==============================] - 0s 6ms/step - loss: 0.6201 - accuracy: 0.8500\n",
            "Epoch 7/10\n",
            "3/3 [==============================] - 0s 6ms/step - loss: 0.5440 - accuracy: 0.8875\n",
            "Epoch 8/10\n",
            "3/3 [==============================] - 0s 5ms/step - loss: 0.4729 - accuracy: 0.9250\n",
            "Epoch 9/10\n",
            "3/3 [==============================] - 0s 8ms/step - loss: 0.4007 - accuracy: 0.9500\n",
            "Epoch 10/10\n",
            "3/3 [==============================] - 0s 7ms/step - loss: 0.3436 - accuracy: 0.9500\n"
          ]
        },
        {
          "output_type": "execute_result",
          "data": {
            "text/plain": [
              "<keras.src.callbacks.History at 0x7fe9812aa1d0>"
            ]
          },
          "metadata": {},
          "execution_count": 18
        }
      ]
    },
    {
      "cell_type": "code",
      "source": [
        "y_pred = model.predict(X_test)\n",
        "\n",
        "# Convertir las probabilidades en etiquetas predichas (la clase con la probabilidad más alta)\n",
        "y_pred_classes = np.argmax(y_pred, axis=1)\n",
        "\n",
        "# Calcular la precisión\n",
        "accuracy = accuracy_score(y_test, y_pred_classes)\n",
        "\n",
        "print(f'Precisión del modelo en el conjunto de prueba: {accuracy * 100:.2f}%')"
      ],
      "metadata": {
        "colab": {
          "base_uri": "https://localhost:8080/"
        },
        "id": "yFksDQX8DM-U",
        "outputId": "193031bb-ce0b-4e72-a34d-675a3ea6ba98"
      },
      "execution_count": 19,
      "outputs": [
        {
          "output_type": "stream",
          "name": "stdout",
          "text": [
            "1/1 [==============================] - 0s 129ms/step\n",
            "Precisión del modelo en el conjunto de prueba: 75.00%\n"
          ]
        }
      ]
    },
    {
      "cell_type": "code",
      "source": [
        "model.save('Kai_correos.h5')"
      ],
      "metadata": {
        "id": "TbLEN8WuDoch",
        "colab": {
          "base_uri": "https://localhost:8080/"
        },
        "outputId": "0f730cf0-8fb2-475e-dffb-4d9f869c7d75"
      },
      "execution_count": 20,
      "outputs": [
        {
          "output_type": "stream",
          "name": "stderr",
          "text": [
            "/usr/local/lib/python3.10/dist-packages/keras/src/engine/training.py:3079: UserWarning: You are saving your model as an HDF5 file via `model.save()`. This file format is considered legacy. We recommend using instead the native Keras format, e.g. `model.save('my_model.keras')`.\n",
            "  saving_api.save_model(\n"
          ]
        }
      ]
    },
    {
      "cell_type": "code",
      "source": [
        "\"\"\"from tensorflow import keras\n",
        "\n",
        "# Cargar el modelo desde el archivo\n",
        "loaded_model = keras.models.load_model('modelo_entrenado.h5')\n",
        "\n",
        "# Aquí debes tener tus datos de entrada, por ejemplo, X_input\n",
        "# Realizar predicciones\n",
        "predictions = loaded_model.predict(X_input)\n",
        "\n",
        "# El resultado en 'predictions' contendrá las probabilidades para cada clase\n",
        "# Puedes convertir las probabilidades en etiquetas predichas si es necesario\n",
        "predicted_classes = predictions.argmax(axis=-1)\n",
        "\n",
        "# Ahora 'predicted_classes' contiene las etiquetas predichas\"\"\"\n"
      ],
      "metadata": {
        "id": "rQNRwMVeHifj",
        "colab": {
          "base_uri": "https://localhost:8080/",
          "height": 104
        },
        "outputId": "fbf51f58-5c58-4466-9e5a-5e2afbc1d0a2"
      },
      "execution_count": 21,
      "outputs": [
        {
          "output_type": "execute_result",
          "data": {
            "text/plain": [
              "\"from tensorflow import keras\\n\\n# Cargar el modelo desde el archivo\\nloaded_model = keras.models.load_model('modelo_entrenado.h5')\\n\\n# Aquí debes tener tus datos de entrada, por ejemplo, X_input\\n# Realizar predicciones\\npredictions = loaded_model.predict(X_input)\\n\\n# El resultado en 'predictions' contendrá las probabilidades para cada clase\\n# Puedes convertir las probabilidades en etiquetas predichas si es necesario\\npredicted_classes = predictions.argmax(axis=-1)\\n\\n# Ahora 'predicted_classes' contiene las etiquetas predichas\""
            ],
            "application/vnd.google.colaboratory.intrinsic+json": {
              "type": "string"
            }
          },
          "metadata": {},
          "execution_count": 21
        }
      ]
    }
  ]
}