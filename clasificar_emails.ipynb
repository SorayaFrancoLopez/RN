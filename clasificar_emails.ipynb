{
  "nbformat": 4,
  "nbformat_minor": 0,
  "metadata": {
    "colab": {
      "provenance": [],
      "toc_visible": true,
      "mount_file_id": "1irL7ZA9lbaG4J5Mfx3sHWEunjsbgWKnt",
      "authorship_tag": "ABX9TyOeCElIZe05uI3euqVLgzHt",
      "include_colab_link": true
    },
    "kernelspec": {
      "name": "python3",
      "display_name": "Python 3"
    },
    "language_info": {
      "name": "python"
    }
  },
  "cells": [
    {
      "cell_type": "markdown",
      "metadata": {
        "id": "view-in-github",
        "colab_type": "text"
      },
      "source": [
        "<a href=\"https://colab.research.google.com/github/SorayaFrancoLopez/RN/blob/main/clasificar_emails.ipynb\" target=\"_parent\"><img src=\"https://colab.research.google.com/assets/colab-badge.svg\" alt=\"Open In Colab\"/></a>"
      ]
    },
    {
      "cell_type": "code",
      "execution_count": 191,
      "metadata": {
        "id": "rxE8mOK5G9E1"
      },
      "outputs": [],
      "source": [
        "#Descargas de bibliotecas.\n",
        "import pandas as pd\n",
        "import numpy as np\n",
        "from sklearn.feature_extraction.text import TfidfVectorizer\n",
        "from sklearn.preprocessing import OneHotEncoder\n",
        "from sklearn.model_selection import train_test_split\n",
        "import tensorflow as tf\n",
        "from tensorflow import keras\n",
        "from scipy.sparse import hstack\n",
        "from google.colab import drive\n",
        "from sklearn.metrics import accuracy_score"
      ]
    },
    {
      "cell_type": "code",
      "source": [
        "from google.colab import drive\n",
        "drive.mount('/content/drive')"
      ],
      "metadata": {
        "colab": {
          "base_uri": "https://localhost:8080/"
        },
        "id": "-BwYQJR-HoBo",
        "outputId": "649c63a7-bb1f-464d-c1d9-01862bdb3f1d"
      },
      "execution_count": 171,
      "outputs": [
        {
          "output_type": "stream",
          "name": "stdout",
          "text": [
            "Drive already mounted at /content/drive; to attempt to forcibly remount, call drive.mount(\"/content/drive\", force_remount=True).\n"
          ]
        }
      ]
    },
    {
      "cell_type": "code",
      "source": [
        "df = pd.read_csv(\"/content/drive/MyDrive/e-mails.csv\", delimiter=';', encoding='latin1')"
      ],
      "metadata": {
        "id": "it0H6qrrHCkm"
      },
      "execution_count": 172,
      "outputs": []
    },
    {
      "cell_type": "code",
      "source": [
        "df"
      ],
      "metadata": {
        "colab": {
          "base_uri": "https://localhost:8080/",
          "height": 424
        },
        "id": "3jEe93jXPjIB",
        "outputId": "add4d1aa-7622-4941-ffc7-e078c31b45b8"
      },
      "execution_count": 173,
      "outputs": [
        {
          "output_type": "execute_result",
          "data": {
            "text/plain": [
              "                  emails                                       asunto  \\\n",
              "0     cliente1@email.com                        Solicitud de Préstamo   \n",
              "1     cliente2@email.com                      Consulta de Inversiones   \n",
              "2     cliente3@email.com                          Reclamo sobre Cargo   \n",
              "3     cliente4@email.com              Pregunta sobre Cuenta de Ahorro   \n",
              "4     cliente5@email.com                    Actualización de Contacto   \n",
              "..                   ...                                          ...   \n",
              "95   cliente96@email.com  Solicitud de Tarjeta de Crédito Empresarial   \n",
              "96   cliente97@email.com          Problema con Transferencia Bancaria   \n",
              "97   cliente98@email.com                  Informe de Estado de Cuenta   \n",
              "98   cliente99@email.com                      Pregunta sobre Hipoteca   \n",
              "99  cliente100@email.com          Solicitud de Préstamo para Estudios   \n",
              "\n",
              "                                                texto prioridad  \n",
              "0   Hola, necesito solicitar un préstamo para una ...      Alta  \n",
              "1   Estimado Gestor, ¿cuáles son las opciones de i...     Media  \n",
              "2   He notado un cargo incorrecto en mi cuenta, ¿p...      Alta  \n",
              "3   Quiero saber cuál es la tasa de interés actual...      Baja  \n",
              "4   Estimado Gestor, he cambiado mi dirección y nú...     Media  \n",
              "..                                                ...       ...  \n",
              "95  Quiero solicitar una tarjeta de crédito empres...      Alta  \n",
              "96  He tenido un problema con una transferencia ba...      Alta  \n",
              "97  ¿Puedes proporcionarme una copia de mi estado ...     Media  \n",
              "98  Estimado Gestor, necesito información sobre la...      Baja  \n",
              "99  Quiero solicitar un préstamo para financiar mi...      Alta  \n",
              "\n",
              "[100 rows x 4 columns]"
            ],
            "text/html": [
              "\n",
              "  <div id=\"df-41065cc7-f3e2-4fae-8a84-ce00c27a7d32\" class=\"colab-df-container\">\n",
              "    <div>\n",
              "<style scoped>\n",
              "    .dataframe tbody tr th:only-of-type {\n",
              "        vertical-align: middle;\n",
              "    }\n",
              "\n",
              "    .dataframe tbody tr th {\n",
              "        vertical-align: top;\n",
              "    }\n",
              "\n",
              "    .dataframe thead th {\n",
              "        text-align: right;\n",
              "    }\n",
              "</style>\n",
              "<table border=\"1\" class=\"dataframe\">\n",
              "  <thead>\n",
              "    <tr style=\"text-align: right;\">\n",
              "      <th></th>\n",
              "      <th>emails</th>\n",
              "      <th>asunto</th>\n",
              "      <th>texto</th>\n",
              "      <th>prioridad</th>\n",
              "    </tr>\n",
              "  </thead>\n",
              "  <tbody>\n",
              "    <tr>\n",
              "      <th>0</th>\n",
              "      <td>cliente1@email.com</td>\n",
              "      <td>Solicitud de Préstamo</td>\n",
              "      <td>Hola, necesito solicitar un préstamo para una ...</td>\n",
              "      <td>Alta</td>\n",
              "    </tr>\n",
              "    <tr>\n",
              "      <th>1</th>\n",
              "      <td>cliente2@email.com</td>\n",
              "      <td>Consulta de Inversiones</td>\n",
              "      <td>Estimado Gestor, ¿cuáles son las opciones de i...</td>\n",
              "      <td>Media</td>\n",
              "    </tr>\n",
              "    <tr>\n",
              "      <th>2</th>\n",
              "      <td>cliente3@email.com</td>\n",
              "      <td>Reclamo sobre Cargo</td>\n",
              "      <td>He notado un cargo incorrecto en mi cuenta, ¿p...</td>\n",
              "      <td>Alta</td>\n",
              "    </tr>\n",
              "    <tr>\n",
              "      <th>3</th>\n",
              "      <td>cliente4@email.com</td>\n",
              "      <td>Pregunta sobre Cuenta de Ahorro</td>\n",
              "      <td>Quiero saber cuál es la tasa de interés actual...</td>\n",
              "      <td>Baja</td>\n",
              "    </tr>\n",
              "    <tr>\n",
              "      <th>4</th>\n",
              "      <td>cliente5@email.com</td>\n",
              "      <td>Actualización de Contacto</td>\n",
              "      <td>Estimado Gestor, he cambiado mi dirección y nú...</td>\n",
              "      <td>Media</td>\n",
              "    </tr>\n",
              "    <tr>\n",
              "      <th>...</th>\n",
              "      <td>...</td>\n",
              "      <td>...</td>\n",
              "      <td>...</td>\n",
              "      <td>...</td>\n",
              "    </tr>\n",
              "    <tr>\n",
              "      <th>95</th>\n",
              "      <td>cliente96@email.com</td>\n",
              "      <td>Solicitud de Tarjeta de Crédito Empresarial</td>\n",
              "      <td>Quiero solicitar una tarjeta de crédito empres...</td>\n",
              "      <td>Alta</td>\n",
              "    </tr>\n",
              "    <tr>\n",
              "      <th>96</th>\n",
              "      <td>cliente97@email.com</td>\n",
              "      <td>Problema con Transferencia Bancaria</td>\n",
              "      <td>He tenido un problema con una transferencia ba...</td>\n",
              "      <td>Alta</td>\n",
              "    </tr>\n",
              "    <tr>\n",
              "      <th>97</th>\n",
              "      <td>cliente98@email.com</td>\n",
              "      <td>Informe de Estado de Cuenta</td>\n",
              "      <td>¿Puedes proporcionarme una copia de mi estado ...</td>\n",
              "      <td>Media</td>\n",
              "    </tr>\n",
              "    <tr>\n",
              "      <th>98</th>\n",
              "      <td>cliente99@email.com</td>\n",
              "      <td>Pregunta sobre Hipoteca</td>\n",
              "      <td>Estimado Gestor, necesito información sobre la...</td>\n",
              "      <td>Baja</td>\n",
              "    </tr>\n",
              "    <tr>\n",
              "      <th>99</th>\n",
              "      <td>cliente100@email.com</td>\n",
              "      <td>Solicitud de Préstamo para Estudios</td>\n",
              "      <td>Quiero solicitar un préstamo para financiar mi...</td>\n",
              "      <td>Alta</td>\n",
              "    </tr>\n",
              "  </tbody>\n",
              "</table>\n",
              "<p>100 rows × 4 columns</p>\n",
              "</div>\n",
              "    <div class=\"colab-df-buttons\">\n",
              "\n",
              "  <div class=\"colab-df-container\">\n",
              "    <button class=\"colab-df-convert\" onclick=\"convertToInteractive('df-41065cc7-f3e2-4fae-8a84-ce00c27a7d32')\"\n",
              "            title=\"Convert this dataframe to an interactive table.\"\n",
              "            style=\"display:none;\">\n",
              "\n",
              "  <svg xmlns=\"http://www.w3.org/2000/svg\" height=\"24px\" viewBox=\"0 -960 960 960\">\n",
              "    <path d=\"M120-120v-720h720v720H120Zm60-500h600v-160H180v160Zm220 220h160v-160H400v160Zm0 220h160v-160H400v160ZM180-400h160v-160H180v160Zm440 0h160v-160H620v160ZM180-180h160v-160H180v160Zm440 0h160v-160H620v160Z\"/>\n",
              "  </svg>\n",
              "    </button>\n",
              "\n",
              "  <style>\n",
              "    .colab-df-container {\n",
              "      display:flex;\n",
              "      gap: 12px;\n",
              "    }\n",
              "\n",
              "    .colab-df-convert {\n",
              "      background-color: #E8F0FE;\n",
              "      border: none;\n",
              "      border-radius: 50%;\n",
              "      cursor: pointer;\n",
              "      display: none;\n",
              "      fill: #1967D2;\n",
              "      height: 32px;\n",
              "      padding: 0 0 0 0;\n",
              "      width: 32px;\n",
              "    }\n",
              "\n",
              "    .colab-df-convert:hover {\n",
              "      background-color: #E2EBFA;\n",
              "      box-shadow: 0px 1px 2px rgba(60, 64, 67, 0.3), 0px 1px 3px 1px rgba(60, 64, 67, 0.15);\n",
              "      fill: #174EA6;\n",
              "    }\n",
              "\n",
              "    .colab-df-buttons div {\n",
              "      margin-bottom: 4px;\n",
              "    }\n",
              "\n",
              "    [theme=dark] .colab-df-convert {\n",
              "      background-color: #3B4455;\n",
              "      fill: #D2E3FC;\n",
              "    }\n",
              "\n",
              "    [theme=dark] .colab-df-convert:hover {\n",
              "      background-color: #434B5C;\n",
              "      box-shadow: 0px 1px 3px 1px rgba(0, 0, 0, 0.15);\n",
              "      filter: drop-shadow(0px 1px 2px rgba(0, 0, 0, 0.3));\n",
              "      fill: #FFFFFF;\n",
              "    }\n",
              "  </style>\n",
              "\n",
              "    <script>\n",
              "      const buttonEl =\n",
              "        document.querySelector('#df-41065cc7-f3e2-4fae-8a84-ce00c27a7d32 button.colab-df-convert');\n",
              "      buttonEl.style.display =\n",
              "        google.colab.kernel.accessAllowed ? 'block' : 'none';\n",
              "\n",
              "      async function convertToInteractive(key) {\n",
              "        const element = document.querySelector('#df-41065cc7-f3e2-4fae-8a84-ce00c27a7d32');\n",
              "        const dataTable =\n",
              "          await google.colab.kernel.invokeFunction('convertToInteractive',\n",
              "                                                    [key], {});\n",
              "        if (!dataTable) return;\n",
              "\n",
              "        const docLinkHtml = 'Like what you see? Visit the ' +\n",
              "          '<a target=\"_blank\" href=https://colab.research.google.com/notebooks/data_table.ipynb>data table notebook</a>'\n",
              "          + ' to learn more about interactive tables.';\n",
              "        element.innerHTML = '';\n",
              "        dataTable['output_type'] = 'display_data';\n",
              "        await google.colab.output.renderOutput(dataTable, element);\n",
              "        const docLink = document.createElement('div');\n",
              "        docLink.innerHTML = docLinkHtml;\n",
              "        element.appendChild(docLink);\n",
              "      }\n",
              "    </script>\n",
              "  </div>\n",
              "\n",
              "\n",
              "<div id=\"df-e221ea94-e94d-4ffa-8be6-989ab6e59a49\">\n",
              "  <button class=\"colab-df-quickchart\" onclick=\"quickchart('df-e221ea94-e94d-4ffa-8be6-989ab6e59a49')\"\n",
              "            title=\"Suggest charts.\"\n",
              "            style=\"display:none;\">\n",
              "\n",
              "<svg xmlns=\"http://www.w3.org/2000/svg\" height=\"24px\"viewBox=\"0 0 24 24\"\n",
              "     width=\"24px\">\n",
              "    <g>\n",
              "        <path d=\"M19 3H5c-1.1 0-2 .9-2 2v14c0 1.1.9 2 2 2h14c1.1 0 2-.9 2-2V5c0-1.1-.9-2-2-2zM9 17H7v-7h2v7zm4 0h-2V7h2v10zm4 0h-2v-4h2v4z\"/>\n",
              "    </g>\n",
              "</svg>\n",
              "  </button>\n",
              "\n",
              "<style>\n",
              "  .colab-df-quickchart {\n",
              "      --bg-color: #E8F0FE;\n",
              "      --fill-color: #1967D2;\n",
              "      --hover-bg-color: #E2EBFA;\n",
              "      --hover-fill-color: #174EA6;\n",
              "      --disabled-fill-color: #AAA;\n",
              "      --disabled-bg-color: #DDD;\n",
              "  }\n",
              "\n",
              "  [theme=dark] .colab-df-quickchart {\n",
              "      --bg-color: #3B4455;\n",
              "      --fill-color: #D2E3FC;\n",
              "      --hover-bg-color: #434B5C;\n",
              "      --hover-fill-color: #FFFFFF;\n",
              "      --disabled-bg-color: #3B4455;\n",
              "      --disabled-fill-color: #666;\n",
              "  }\n",
              "\n",
              "  .colab-df-quickchart {\n",
              "    background-color: var(--bg-color);\n",
              "    border: none;\n",
              "    border-radius: 50%;\n",
              "    cursor: pointer;\n",
              "    display: none;\n",
              "    fill: var(--fill-color);\n",
              "    height: 32px;\n",
              "    padding: 0;\n",
              "    width: 32px;\n",
              "  }\n",
              "\n",
              "  .colab-df-quickchart:hover {\n",
              "    background-color: var(--hover-bg-color);\n",
              "    box-shadow: 0 1px 2px rgba(60, 64, 67, 0.3), 0 1px 3px 1px rgba(60, 64, 67, 0.15);\n",
              "    fill: var(--button-hover-fill-color);\n",
              "  }\n",
              "\n",
              "  .colab-df-quickchart-complete:disabled,\n",
              "  .colab-df-quickchart-complete:disabled:hover {\n",
              "    background-color: var(--disabled-bg-color);\n",
              "    fill: var(--disabled-fill-color);\n",
              "    box-shadow: none;\n",
              "  }\n",
              "\n",
              "  .colab-df-spinner {\n",
              "    border: 2px solid var(--fill-color);\n",
              "    border-color: transparent;\n",
              "    border-bottom-color: var(--fill-color);\n",
              "    animation:\n",
              "      spin 1s steps(1) infinite;\n",
              "  }\n",
              "\n",
              "  @keyframes spin {\n",
              "    0% {\n",
              "      border-color: transparent;\n",
              "      border-bottom-color: var(--fill-color);\n",
              "      border-left-color: var(--fill-color);\n",
              "    }\n",
              "    20% {\n",
              "      border-color: transparent;\n",
              "      border-left-color: var(--fill-color);\n",
              "      border-top-color: var(--fill-color);\n",
              "    }\n",
              "    30% {\n",
              "      border-color: transparent;\n",
              "      border-left-color: var(--fill-color);\n",
              "      border-top-color: var(--fill-color);\n",
              "      border-right-color: var(--fill-color);\n",
              "    }\n",
              "    40% {\n",
              "      border-color: transparent;\n",
              "      border-right-color: var(--fill-color);\n",
              "      border-top-color: var(--fill-color);\n",
              "    }\n",
              "    60% {\n",
              "      border-color: transparent;\n",
              "      border-right-color: var(--fill-color);\n",
              "    }\n",
              "    80% {\n",
              "      border-color: transparent;\n",
              "      border-right-color: var(--fill-color);\n",
              "      border-bottom-color: var(--fill-color);\n",
              "    }\n",
              "    90% {\n",
              "      border-color: transparent;\n",
              "      border-bottom-color: var(--fill-color);\n",
              "    }\n",
              "  }\n",
              "</style>\n",
              "\n",
              "  <script>\n",
              "    async function quickchart(key) {\n",
              "      const quickchartButtonEl =\n",
              "        document.querySelector('#' + key + ' button');\n",
              "      quickchartButtonEl.disabled = true;  // To prevent multiple clicks.\n",
              "      quickchartButtonEl.classList.add('colab-df-spinner');\n",
              "      try {\n",
              "        const charts = await google.colab.kernel.invokeFunction(\n",
              "            'suggestCharts', [key], {});\n",
              "      } catch (error) {\n",
              "        console.error('Error during call to suggestCharts:', error);\n",
              "      }\n",
              "      quickchartButtonEl.classList.remove('colab-df-spinner');\n",
              "      quickchartButtonEl.classList.add('colab-df-quickchart-complete');\n",
              "    }\n",
              "    (() => {\n",
              "      let quickchartButtonEl =\n",
              "        document.querySelector('#df-e221ea94-e94d-4ffa-8be6-989ab6e59a49 button');\n",
              "      quickchartButtonEl.style.display =\n",
              "        google.colab.kernel.accessAllowed ? 'block' : 'none';\n",
              "    })();\n",
              "  </script>\n",
              "</div>\n",
              "    </div>\n",
              "  </div>\n"
            ]
          },
          "metadata": {},
          "execution_count": 173
        }
      ]
    },
    {
      "cell_type": "code",
      "source": [
        "# Vectorización del campo 'texto'\n",
        "text_vectorizer = TfidfVectorizer(max_features=50)\n",
        "X_text = text_vectorizer.fit_transform(df['texto'])\n",
        "\n",
        "# Vectorización del campo 'asunto'\n",
        "subject_vectorizer = TfidfVectorizer(max_features=50)\n",
        "X_subject = subject_vectorizer.fit_transform(df['asunto'])\n",
        "\n",
        "# Combinar las dos representaciones TF-IDF\n",
        "X_combined = hstack([X_text, X_subject])"
      ],
      "metadata": {
        "id": "wkoSw4jYPjQD"
      },
      "execution_count": 174,
      "outputs": []
    },
    {
      "cell_type": "code",
      "source": [
        "dense_X_combined = X_combined.toarray()"
      ],
      "metadata": {
        "id": "2zjL8zE3AT6x"
      },
      "execution_count": 175,
      "outputs": []
    },
    {
      "cell_type": "code",
      "source": [
        "label_encoder = LabelEncoder()\n",
        "y = label_encoder.fit_transform(df['prioridad'])"
      ],
      "metadata": {
        "id": "-M62m8sCCA61"
      },
      "execution_count": 177,
      "outputs": []
    },
    {
      "cell_type": "code",
      "source": [
        "encoder = OneHotEncoder(sparse=False)\n",
        "dense_X_combined_onehot = encoder.fit_transform(dense_X_combined)"
      ],
      "metadata": {
        "colab": {
          "base_uri": "https://localhost:8080/"
        },
        "id": "bStx2fT2_23U",
        "outputId": "cfcd88d9-2f66-46bb-df93-8360bf790015"
      },
      "execution_count": 178,
      "outputs": [
        {
          "output_type": "stream",
          "name": "stderr",
          "text": [
            "/usr/local/lib/python3.10/dist-packages/sklearn/preprocessing/_encoders.py:868: FutureWarning: `sparse` was renamed to `sparse_output` in version 1.2 and will be removed in 1.4. `sparse_output` is ignored unless you leave `sparse` to its default value.\n",
            "  warnings.warn(\n"
          ]
        }
      ]
    },
    {
      "cell_type": "code",
      "source": [
        "#division en train y test\n",
        "X_train, X_test, y_train, y_test = train_test_split(dense_X_combined_onehot, y, test_size=0.2, random_state=42)"
      ],
      "metadata": {
        "id": "GTWmixMHQ3uu"
      },
      "execution_count": 179,
      "outputs": []
    },
    {
      "cell_type": "code",
      "source": [
        "X_train"
      ],
      "metadata": {
        "colab": {
          "base_uri": "https://localhost:8080/"
        },
        "id": "9HnAvixW6DHx",
        "outputId": "99736e12-6c19-4123-9c01-87a6a6fbd57e"
      },
      "execution_count": 182,
      "outputs": [
        {
          "output_type": "execute_result",
          "data": {
            "text/plain": [
              "array([[1., 0., 0., ..., 0., 1., 0.],\n",
              "       [1., 0., 0., ..., 0., 1., 0.],\n",
              "       [1., 0., 0., ..., 0., 1., 0.],\n",
              "       ...,\n",
              "       [0., 0., 0., ..., 0., 1., 0.],\n",
              "       [1., 0., 0., ..., 0., 1., 0.],\n",
              "       [1., 0., 0., ..., 0., 1., 0.]])"
            ]
          },
          "metadata": {},
          "execution_count": 182
        }
      ]
    },
    {
      "cell_type": "code",
      "source": [
        "X_test"
      ],
      "metadata": {
        "colab": {
          "base_uri": "https://localhost:8080/"
        },
        "id": "FlUuaWzq6MkC",
        "outputId": "90281741-3209-4108-e829-983edbe4d834"
      },
      "execution_count": 183,
      "outputs": [
        {
          "output_type": "execute_result",
          "data": {
            "text/plain": [
              "array([[1., 0., 0., ..., 0., 1., 0.],\n",
              "       [1., 0., 0., ..., 0., 1., 0.],\n",
              "       [1., 0., 0., ..., 0., 1., 0.],\n",
              "       ...,\n",
              "       [1., 0., 0., ..., 0., 1., 0.],\n",
              "       [1., 0., 0., ..., 0., 0., 1.],\n",
              "       [1., 0., 0., ..., 0., 1., 0.]])"
            ]
          },
          "metadata": {},
          "execution_count": 183
        }
      ]
    },
    {
      "cell_type": "code",
      "source": [
        "y_train"
      ],
      "metadata": {
        "colab": {
          "base_uri": "https://localhost:8080/"
        },
        "id": "tE56Knn96S5x",
        "outputId": "6c1cfd6f-2c4b-45fa-9755-a1d782edec86"
      },
      "execution_count": 184,
      "outputs": [
        {
          "output_type": "execute_result",
          "data": {
            "text/plain": [
              "array([0, 2, 0, 0, 0, 1, 2, 0, 0, 0, 1, 1, 0, 2, 2, 1, 0, 1, 1, 2, 1, 2,\n",
              "       1, 0, 1, 1, 2, 0, 0, 1, 2, 1, 1, 2, 2, 0, 0, 2, 0, 1, 0, 0, 2, 1,\n",
              "       0, 1, 2, 2, 2, 2, 1, 1, 2, 0, 1, 1, 0, 0, 1, 1, 1, 2, 1, 1, 2, 0,\n",
              "       2, 0, 1, 1, 1, 1, 0, 0, 0, 0, 1, 0, 0, 2])"
            ]
          },
          "metadata": {},
          "execution_count": 184
        }
      ]
    },
    {
      "cell_type": "code",
      "source": [
        "y_test"
      ],
      "metadata": {
        "colab": {
          "base_uri": "https://localhost:8080/"
        },
        "id": "00iGcWRz6bfr",
        "outputId": "679a9270-9b32-422d-a87a-41b6914c6671"
      },
      "execution_count": 185,
      "outputs": [
        {
          "output_type": "execute_result",
          "data": {
            "text/plain": [
              "array([1, 1, 2, 1, 0, 0, 0, 0, 2, 0, 0, 0, 0, 1, 2, 2, 2, 1, 0, 2])"
            ]
          },
          "metadata": {},
          "execution_count": 185
        }
      ]
    },
    {
      "cell_type": "code",
      "source": [
        "y_train_onehot = tf.one_hot(y_train, depth=3)"
      ],
      "metadata": {
        "id": "VsmTsy6ACrbb"
      },
      "execution_count": 186,
      "outputs": []
    },
    {
      "cell_type": "code",
      "source": [
        "model = keras.Sequential([\n",
        "    keras.layers.Dense(64, input_shape=(676,), activation='relu'),  # Ajusta 100 al número de características en X_combined\n",
        "    keras.layers.Dense(32, activation='relu'),\n",
        "    keras.layers.Dense(3, activation='softmax')  # 3 clases de prioridad\n",
        "])\n",
        "model.compile(loss='categorical_crossentropy', optimizer='adam', metrics=['accuracy'])\n",
        "model.fit(X_train, y_train_onehot, epochs=10, batch_size=32)"
      ],
      "metadata": {
        "colab": {
          "base_uri": "https://localhost:8080/"
        },
        "id": "XcRQhsOjSJbe",
        "outputId": "73d10d00-82b0-4b26-fc84-7204e5eefb54"
      },
      "execution_count": 189,
      "outputs": [
        {
          "output_type": "stream",
          "name": "stdout",
          "text": [
            "Epoch 1/10\n",
            "3/3 [==============================] - 2s 7ms/step - loss: 1.0780 - accuracy: 0.4125\n",
            "Epoch 2/10\n",
            "3/3 [==============================] - 0s 5ms/step - loss: 0.9462 - accuracy: 0.7375\n",
            "Epoch 3/10\n",
            "3/3 [==============================] - 0s 5ms/step - loss: 0.8512 - accuracy: 0.8500\n",
            "Epoch 4/10\n",
            "3/3 [==============================] - 0s 5ms/step - loss: 0.7445 - accuracy: 0.8875\n",
            "Epoch 5/10\n",
            "3/3 [==============================] - 0s 5ms/step - loss: 0.6560 - accuracy: 0.9125\n",
            "Epoch 6/10\n",
            "3/3 [==============================] - 0s 5ms/step - loss: 0.5658 - accuracy: 0.9500\n",
            "Epoch 7/10\n",
            "3/3 [==============================] - 0s 5ms/step - loss: 0.5011 - accuracy: 0.9375\n",
            "Epoch 8/10\n",
            "3/3 [==============================] - 0s 5ms/step - loss: 0.4199 - accuracy: 0.9625\n",
            "Epoch 9/10\n",
            "3/3 [==============================] - 0s 5ms/step - loss: 0.3565 - accuracy: 0.9750\n",
            "Epoch 10/10\n",
            "3/3 [==============================] - 0s 6ms/step - loss: 0.2961 - accuracy: 0.9750\n"
          ]
        },
        {
          "output_type": "execute_result",
          "data": {
            "text/plain": [
              "<keras.src.callbacks.History at 0x7e4b3644de70>"
            ]
          },
          "metadata": {},
          "execution_count": 189
        }
      ]
    },
    {
      "cell_type": "code",
      "source": [
        "y_pred = model.predict(X_test)\n",
        "\n",
        "# Convertir las probabilidades en etiquetas predichas (la clase con la probabilidad más alta)\n",
        "y_pred_classes = np.argmax(y_pred, axis=1)\n",
        "\n",
        "# Calcular la precisión\n",
        "accuracy = accuracy_score(y_test, y_pred_classes)\n",
        "\n",
        "print(f'Precisión del modelo en el conjunto de prueba: {accuracy * 100:.2f}%')"
      ],
      "metadata": {
        "colab": {
          "base_uri": "https://localhost:8080/"
        },
        "id": "yFksDQX8DM-U",
        "outputId": "fb769b1f-9aac-438a-baf9-aa79b5f345f0"
      },
      "execution_count": 192,
      "outputs": [
        {
          "output_type": "stream",
          "name": "stdout",
          "text": [
            "1/1 [==============================] - 0s 20ms/step\n",
            "Precisión del modelo en el conjunto de prueba: 80.00%\n"
          ]
        }
      ]
    },
    {
      "cell_type": "code",
      "source": [
        "\"\"\"model.save('Kai_correos.h5')\"\"\""
      ],
      "metadata": {
        "id": "TbLEN8WuDoch"
      },
      "execution_count": null,
      "outputs": []
    }
  ]
}